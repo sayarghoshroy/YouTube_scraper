{
 "cells": [
  {
   "cell_type": "code",
   "execution_count": null,
   "metadata": {},
   "outputs": [],
   "source": [
    "# Scraping data from YouTube using Selenium"
   ]
  },
  {
   "cell_type": "code",
   "execution_count": 1,
   "metadata": {},
   "outputs": [],
   "source": [
    "%%capture\n",
    "\n",
    "!pip install selenium\n",
    "!pip install webdriver-manager\n",
    "!pip install pandas"
   ]
  },
  {
   "cell_type": "code",
   "execution_count": null,
   "metadata": {},
   "outputs": [],
   "source": [
    "# Get the Chrome Web Driver\n",
    "# https://sites.google.com/a/chromium.org/chromedriver/download\n",
    "# Get the latest stable release\n",
    "\n",
    "# !cd Downloads\n",
    "# !unzip chromedriver_linux64.zip\n",
    "# !mv chromedriver X\n",
    "# where X is a path directory"
   ]
  },
  {
   "cell_type": "code",
   "execution_count": 2,
   "metadata": {},
   "outputs": [],
   "source": [
    "from selenium import webdriver\n",
    "import pandas as pd \n",
    "from selenium.webdriver.common.by import By \n",
    "from selenium.webdriver.support.ui import WebDriverWait \n",
    "from selenium.webdriver.support import expected_conditions as EC"
   ]
  },
  {
   "cell_type": "code",
   "execution_count": 3,
   "metadata": {},
   "outputs": [],
   "source": [
    "# Scraping Wildlife videos\n",
    "driver = webdriver.Chrome()\n",
    "driver.get(\"https://www.youtube.com/results?search_query=wildlife\")\n",
    "driver.execute_script(\"document.body.style.zoom='40%'\")"
   ]
  },
  {
   "cell_type": "code",
   "execution_count": 4,
   "metadata": {},
   "outputs": [
    {
     "name": "stdout",
     "output_type": "stream",
     "text": [
      "Number of Encountered Links: 26\n"
     ]
    }
   ],
   "source": [
    "# Fetch all the video links on that page\n",
    "\n",
    "user_data = driver.find_elements_by_xpath('//*[@id=\"video-title\"]')\n",
    "links = []\n",
    "\n",
    "for i in user_data:\n",
    "    links.append(i.get_attribute('href'))\n",
    "    \n",
    "print(\"Number of Encountered Links: \" + str(len(links)))"
   ]
  },
  {
   "cell_type": "code",
   "execution_count": 5,
   "metadata": {},
   "outputs": [],
   "source": [
    "df = pd.DataFrame(columns = ['ID', 'Title', 'Description', 'Release date', 'Views'])"
   ]
  },
  {
   "cell_type": "code",
   "execution_count": 6,
   "metadata": {},
   "outputs": [],
   "source": [
    "is_demo = True\n",
    "limit = 8\n",
    "\n",
    "if not is_demo:\n",
    "    limit = int(1e18)"
   ]
  },
  {
   "cell_type": "code",
   "execution_count": 7,
   "metadata": {},
   "outputs": [],
   "source": [
    "# Let's scrape\n",
    "\n",
    "wait = WebDriverWait(driver, 10)\n",
    "v_category = \"wildlife\"\n",
    "\n",
    "for x in links[0: limit]:\n",
    "    v_likes = v_dlikes = v_views = -1\n",
    "    driver.get(x)\n",
    "    driver.execute_script(\"document.body.style.zoom='40%'\")\n",
    "    \n",
    "    v_id = x.split('https://www.youtube.com/watch?v=')[1]\n",
    "    \n",
    "    v_title = wait.until(EC.presence_of_element_located((By.CSS_SELECTOR, \"h1.title.style-scope.ytd-video-primary-info-renderer\"))).text\n",
    "    \n",
    "    v_desc = wait.until(EC.presence_of_element_located((By.XPATH,'//*[@id=\"description\"]/yt-formatted-string'))).text\n",
    "    \n",
    "    v_date = wait.until(EC.presence_of_element_located((By.XPATH,'//*[@id=\"info-strings\"]/yt-formatted-string'))).text\n",
    "\n",
    "    v_views= wait.until(EC.presence_of_element_located((By.XPATH,'//*[@id=\"count\"]/ytd-video-view-count-renderer/span[1]'))).text\n",
    "    \n",
    "    df.loc[len(df)] = [v_id, v_title, v_desc, v_date, v_views]"
   ]
  },
  {
   "cell_type": "code",
   "execution_count": 8,
   "metadata": {},
   "outputs": [
    {
     "data": {
      "text/html": [
       "<div>\n",
       "<style scoped>\n",
       "    .dataframe tbody tr th:only-of-type {\n",
       "        vertical-align: middle;\n",
       "    }\n",
       "\n",
       "    .dataframe tbody tr th {\n",
       "        vertical-align: top;\n",
       "    }\n",
       "\n",
       "    .dataframe thead th {\n",
       "        text-align: right;\n",
       "    }\n",
       "</style>\n",
       "<table border=\"1\" class=\"dataframe\">\n",
       "  <thead>\n",
       "    <tr style=\"text-align: right;\">\n",
       "      <th></th>\n",
       "      <th>ID</th>\n",
       "      <th>Title</th>\n",
       "      <th>Description</th>\n",
       "      <th>Release date</th>\n",
       "      <th>Views</th>\n",
       "    </tr>\n",
       "  </thead>\n",
       "  <tbody>\n",
       "    <tr>\n",
       "      <th>0</th>\n",
       "      <td>GcRKREorGSc</td>\n",
       "      <td>Amazing Wildlife of Botswana - 8K Nature Docum...</td>\n",
       "      <td>Go on a virtual 1-hour safari tour without lea...</td>\n",
       "      <td>10 Jul 2020</td>\n",
       "      <td>9,746,191 views</td>\n",
       "    </tr>\n",
       "    <tr>\n",
       "      <th>1</th>\n",
       "      <td>GK1ll8e017k</td>\n",
       "      <td>4K Ostrich the Flightless Bird - African Wildl...</td>\n",
       "      <td>Ostrich - the flightless bird, African wildlif...</td>\n",
       "      <td>9 Mar 2019</td>\n",
       "      <td>1,157,092 views</td>\n",
       "    </tr>\n",
       "    <tr>\n",
       "      <th>2</th>\n",
       "      <td>4zxAxbBuz8s</td>\n",
       "      <td>Wildlife Africa &amp; Asia: Elephants | Free Docum...</td>\n",
       "      <td>Wildlife Africa &amp; Asia - Episode 5: Elephants ...</td>\n",
       "      <td>4 Dec 2020</td>\n",
       "      <td>1,612,942 views</td>\n",
       "    </tr>\n",
       "    <tr>\n",
       "      <th>3</th>\n",
       "      <td>7jUW96CiEKA</td>\n",
       "      <td>Wild Life - Nature Documentary Full HD 1080p</td>\n",
       "      <td>Krugers Pafuri Wildlife in Africa | National G...</td>\n",
       "      <td>21 Sept 2020</td>\n",
       "      <td>230,725 views</td>\n",
       "    </tr>\n",
       "    <tr>\n",
       "      <th>4</th>\n",
       "      <td>Pvl-A3nsfhU</td>\n",
       "      <td>The best battles of the animal world, Harsh Li...</td>\n",
       "      <td>The best battles of the animal world, Harsh Li...</td>\n",
       "      <td>Premiered on 6 Feb 2021</td>\n",
       "      <td>4,866,096 views</td>\n",
       "    </tr>\n",
       "    <tr>\n",
       "      <th>5</th>\n",
       "      <td>rIw0_Qy1tjw</td>\n",
       "      <td>Animal Documentary 2021 Nature Wildlife Animal...</td>\n",
       "      <td>Do not forget to subscribe and like the channel</td>\n",
       "      <td>4 Jun 2021</td>\n",
       "      <td>25,051 views</td>\n",
       "    </tr>\n",
       "    <tr>\n",
       "      <th>6</th>\n",
       "      <td>YTJg8q9Q940</td>\n",
       "      <td>Nature And Wildlife Video – Bird and animal is...</td>\n",
       "      <td>This awesome wildlife video is the compilation...</td>\n",
       "      <td>14 Jul 2017</td>\n",
       "      <td>3,836,256 views</td>\n",
       "    </tr>\n",
       "    <tr>\n",
       "      <th>7</th>\n",
       "      <td>V2bxUcD0PS0</td>\n",
       "      <td>Lion is haunted by the onslaught of Wildebeest...</td>\n",
       "      <td>Lion is haunted by the onslaught of Wildebeest...</td>\n",
       "      <td>Premiered on 5 Jan 2021</td>\n",
       "      <td>4,666,014 views</td>\n",
       "    </tr>\n",
       "  </tbody>\n",
       "</table>\n",
       "</div>"
      ],
      "text/plain": [
       "            ID                                              Title  \\\n",
       "0  GcRKREorGSc  Amazing Wildlife of Botswana - 8K Nature Docum...   \n",
       "1  GK1ll8e017k  4K Ostrich the Flightless Bird - African Wildl...   \n",
       "2  4zxAxbBuz8s  Wildlife Africa & Asia: Elephants | Free Docum...   \n",
       "3  7jUW96CiEKA       Wild Life - Nature Documentary Full HD 1080p   \n",
       "4  Pvl-A3nsfhU  The best battles of the animal world, Harsh Li...   \n",
       "5  rIw0_Qy1tjw  Animal Documentary 2021 Nature Wildlife Animal...   \n",
       "6  YTJg8q9Q940  Nature And Wildlife Video – Bird and animal is...   \n",
       "7  V2bxUcD0PS0  Lion is haunted by the onslaught of Wildebeest...   \n",
       "\n",
       "                                         Description             Release date  \\\n",
       "0  Go on a virtual 1-hour safari tour without lea...              10 Jul 2020   \n",
       "1  Ostrich - the flightless bird, African wildlif...               9 Mar 2019   \n",
       "2  Wildlife Africa & Asia - Episode 5: Elephants ...               4 Dec 2020   \n",
       "3  Krugers Pafuri Wildlife in Africa | National G...             21 Sept 2020   \n",
       "4  The best battles of the animal world, Harsh Li...  Premiered on 6 Feb 2021   \n",
       "5    Do not forget to subscribe and like the channel               4 Jun 2021   \n",
       "6  This awesome wildlife video is the compilation...              14 Jul 2017   \n",
       "7  Lion is haunted by the onslaught of Wildebeest...  Premiered on 5 Jan 2021   \n",
       "\n",
       "             Views  \n",
       "0  9,746,191 views  \n",
       "1  1,157,092 views  \n",
       "2  1,612,942 views  \n",
       "3    230,725 views  \n",
       "4  4,866,096 views  \n",
       "5     25,051 views  \n",
       "6  3,836,256 views  \n",
       "7  4,666,014 views  "
      ]
     },
     "execution_count": 8,
     "metadata": {},
     "output_type": "execute_result"
    }
   ],
   "source": [
    "df"
   ]
  },
  {
   "cell_type": "code",
   "execution_count": 9,
   "metadata": {},
   "outputs": [],
   "source": [
    "df.to_csv('./YouTube_data.csv')"
   ]
  },
  {
   "cell_type": "code",
   "execution_count": 10,
   "metadata": {},
   "outputs": [],
   "source": [
    "%%capture\n",
    "!pip install pytube"
   ]
  },
  {
   "cell_type": "code",
   "execution_count": 11,
   "metadata": {},
   "outputs": [
    {
     "name": "stdout",
     "output_type": "stream",
     "text": [
      "Fetching https://www.youtube.com/watch?v=GcRKREorGSc\n",
      "Fetching https://www.youtube.com/watch?v=GK1ll8e017k\n",
      "Fetching https://www.youtube.com/watch?v=4zxAxbBuz8s\n",
      "Fetching https://www.youtube.com/watch?v=7jUW96CiEKA\n",
      "Fetching https://www.youtube.com/watch?v=Pvl-A3nsfhU\n",
      "Fetching https://www.youtube.com/watch?v=rIw0_Qy1tjw\n",
      "Fetching https://www.youtube.com/watch?v=YTJg8q9Q940\n",
      "Fetching https://www.youtube.com/watch?v=V2bxUcD0PS0\n",
      "Number of videos fetched = 8\n"
     ]
    }
   ],
   "source": [
    "from pytube import YouTube\n",
    "\n",
    "dump_path = './dump'\n",
    "IDs = df['ID'].tolist()\n",
    "\n",
    "fetch_quality = {'highest': -1,\n",
    "                 'lowest': 0}\n",
    "\n",
    "count = 0\n",
    "\n",
    "for ID in IDs:\n",
    "    extract_link = 'https://www.youtube.com/watch?v=' + ID\n",
    "    print('Fetching ' + str(extract_link))\n",
    "    try:\n",
    "        yt = YouTube(extract_link)\n",
    "    except:\n",
    "        print(\"> Error\")\n",
    "        continue\n",
    "    try:\n",
    "        stream = yt.streams.filter(file_extension='mp4').order_by('resolution')[fetch_quality['lowest']]\n",
    "        stream.download(dump_path)\n",
    "        count += 1\n",
    "    except:\n",
    "        print(\"> Download error\")\n",
    "        \n",
    "print('Number of videos fetched = ' + str(count))"
   ]
  },
  {
   "cell_type": "code",
   "execution_count": 12,
   "metadata": {},
   "outputs": [],
   "source": [
    "# ^_^ Thank You"
   ]
  }
 ],
 "metadata": {
  "kernelspec": {
   "display_name": "Python 3",
   "language": "python",
   "name": "python3"
  },
  "language_info": {
   "codemirror_mode": {
    "name": "ipython",
    "version": 3
   },
   "file_extension": ".py",
   "mimetype": "text/x-python",
   "name": "python",
   "nbconvert_exporter": "python",
   "pygments_lexer": "ipython3",
   "version": "3.8.10"
  }
 },
 "nbformat": 4,
 "nbformat_minor": 4
}
